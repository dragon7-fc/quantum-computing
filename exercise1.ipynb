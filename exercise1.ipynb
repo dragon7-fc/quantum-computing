{
 "cells": [
  {
   "cell_type": "markdown",
   "metadata": {},
   "source": [
    "# Python 程式實作\n",
    "\n",
    "目的：模擬在台北 101 頂樓投擲一顆球\n",
    "\n",
    "物理公式：\n",
    "\n",
    "$x = v_0\\cos\\theta\\cdot t$\n",
    "\n",
    "$y = v_0\\sin\\theta\\cdot t - \\frac{1}{2}gt^2$"
   ]
  },
  {
   "cell_type": "code",
   "execution_count": 1,
   "metadata": {},
   "outputs": [
    {
     "data": {
      "image/png": "[encoded data removed]",
      "text/plain": [
       "<Figure size 432x288 with 1 Axes>"
      ]
     },
     "metadata": {
      "needs_background": "light"
     },
     "output_type": "display_data"
    }
   ],
   "source": [
    "#\n",
    "#  古典力學\n",
    "#  模擬在台北101頂樓投擲一顆球\n",
    "#\n",
    "import numpy as np\n",
    "import matplotlib.pyplot as plt\n",
    "%matplotlib inline\n",
    "\n",
    "t = np.linspace(0, 12, 13)\n",
    "g = 9.8      # 重力加速度\n",
    "v0 = 30      # 初速 m/sec\n",
    "theta = 60   # 角度\n",
    "x = v0 * np.cos(np.radians(theta)) * t   \n",
    "y = 500 + v0 * np.sin(np.radians(theta)) * t - 0.5 * g * t * t\n",
    "plt.scatter(x,y)  # 繪圖\n",
    "plt.xlabel('time (second)')\n",
    "plt.ylabel('meter')\n",
    "plt.show()"
   ]
  },
  {
   "cell_type": "markdown",
   "metadata": {},
   "source": [
    "# Python 程式實作\n",
    "\n",
    "目的：根據狹義相對論，計算高速運動的時間差\n",
    "物理公式：\n",
    "\n",
    "$t = \\frac{t_0}{\\sqrt{1-(\\frac{v}{c})^2}}$\n",
    "\n",
    "$\\gamma = \\frac{1}{\\sqrt{1-(\\frac{v}{c})^2}}$"
   ]
  },
  {
   "cell_type": "code",
   "execution_count": 2,
   "metadata": {},
   "outputs": [
    {
     "name": "stdout",
     "output_type": "stream",
     "text": [
      "時間差 = 0.00034727776210274897 奈秒\n"
     ]
    }
   ],
   "source": [
    "#\n",
    "#  狹義相對論\n",
    "#  計算高速運動的時間差\n",
    "#\n",
    "import numpy as np\n",
    "t0 = 1.0  # 1秒\n",
    "# 汽車 100 km/hr\n",
    "# 高鐵 360 km/hr\n",
    "# 飛機 900 km/hr\n",
    "# 衛星 140000 km/hr\n",
    "v = 900 * (1000 / 3600)  # km/hr 換算成 m/s \n",
    "# 光速\n",
    "c = 3e8 \n",
    "# 計算時間\n",
    "t = t0 / np.sqrt(1 - (v / c) ** 2)\n",
    "print('時間差 =', (t - t0) * 1e9, '奈秒')"
   ]
  },
  {
   "cell_type": "markdown",
   "metadata": {},
   "source": [
    "# Python 程式實作\n",
    "\n",
    "試設計 Python 程式，繪製 $\\gamma$ 曲線：\n",
    "\n",
    "$\\gamma = \\frac{1}{\\sqrt{1-(\\frac{v}{c})^2}}$\n",
    "\n",
    "其中，橫軸為速度 (0 ~ 光速)。"
   ]
  },
  {
   "cell_type": "code",
   "execution_count": 3,
   "metadata": {},
   "outputs": [
    {
     "name": "stderr",
     "output_type": "stream",
     "text": [
      "/home/fc/anaconda3/lib/python3.7/site-packages/ipykernel_launcher.py:6: RuntimeWarning: divide by zero encountered in true_divide\n",
      "  \n"
     ]
    },
    {
     "data": {
      "image/png": "[encoded data removed]",
      "text/plain": [
       "<Figure size 432x288 with 1 Axes>"
      ]
     },
     "metadata": {
      "needs_background": "light"
     },
     "output_type": "display_data"
    }
   ],
   "source": [
    "import numpy as np\n",
    "import matplotlib.pyplot as plt\n",
    "\n",
    "c = 3e8\n",
    "v = np.linspace(0, c)\n",
    "gamma = 1 / np.sqrt(1 - (v/c)**2)\n",
    "\n",
    "plt.plot(v, gamma)\n",
    "plt.xlabel('speed')\n",
    "plt.ylabel('gamma')\n",
    "plt.show()"
   ]
  },
  {
   "cell_type": "code",
   "execution_count": null,
   "metadata": {},
   "outputs": [],
   "source": []
  }
 ],
 "metadata": {
  "kernelspec": {
   "display_name": "Python 3",
   "language": "python",
   "name": "python3"
  },
  "language_info": {
   "codemirror_mode": {
    "name": "ipython",
    "version": 3
   },
   "file_extension": ".py",
   "mimetype": "text/x-python",
   "name": "python",
   "nbconvert_exporter": "python",
   "pygments_lexer": "ipython3",
   "version": "3.7.3"
  }
 },
 "nbformat": 4,
 "nbformat_minor": 4
}
